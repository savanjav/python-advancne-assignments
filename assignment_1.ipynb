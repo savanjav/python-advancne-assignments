{
 "cells": [
  {
   "cell_type": "markdown",
   "id": "f786a6c0",
   "metadata": {},
   "source": [
    "<b>Q1. What is the purpose of Python&#39;s OOP?</b>"
   ]
  },
  {
   "cell_type": "markdown",
   "id": "66642d0f",
   "metadata": {},
   "source": [
    "To create a modular software, and for robust devlopment and integration and for utilize reusability. "
   ]
  },
  {
   "cell_type": "markdown",
   "id": "f91617b2",
   "metadata": {},
   "source": [
    "<b>Q2. Where does an inheritance search look for an attribute?</b>"
   ]
  },
  {
   "cell_type": "markdown",
   "id": "c68a72f5",
   "metadata": {},
   "source": [
    "namespace tree at and above object"
   ]
  },
  {
   "cell_type": "markdown",
   "id": "91bc7f25",
   "metadata": {},
   "source": [
    "<b>Q3. How do you distinguish between a class object and an instance object?</b>"
   ]
  },
  {
   "cell_type": "markdown",
   "id": "0b550c29",
   "metadata": {},
   "source": [
    "Object of class have all attributes loaded in memory, instance of class not allocate their attributes in memory."
   ]
  },
  {
   "cell_type": "markdown",
   "id": "c6c08060",
   "metadata": {},
   "source": [
    "<b>Q4. What makes the first argument in a class’s method function special?</b>"
   ]
  },
  {
   "cell_type": "markdown",
   "id": "2d565300",
   "metadata": {},
   "source": [
    "first argument self will point to the current object of the class."
   ]
  },
  {
   "cell_type": "markdown",
   "id": "5f277e84",
   "metadata": {},
   "source": [
    "<b>Q5. What is the purpose of the __init__ method?</b>"
   ]
  },
  {
   "cell_type": "markdown",
   "id": "685b264a",
   "metadata": {},
   "source": [
    "init method is a constroctor of class, which is use to initialize an object attributes at the time of the creation."
   ]
  },
  {
   "cell_type": "markdown",
   "id": "8ef00d48",
   "metadata": {},
   "source": [
    "<b>Q6. What is the process for creating a class instance?</b>"
   ]
  },
  {
   "cell_type": "markdown",
   "id": "304638a7",
   "metadata": {},
   "source": [
    "Call ClassName() to create a new instance of the class ClassName"
   ]
  },
  {
   "cell_type": "markdown",
   "id": "4af45c12",
   "metadata": {},
   "source": [
    "<b>Q7. What is the process for creating a class?</b>"
   ]
  },
  {
   "cell_type": "markdown",
   "id": "b7b5337d",
   "metadata": {},
   "source": [
    "use class keyword with className and define it's attributes, constroctor, and methods"
   ]
  },
  {
   "cell_type": "markdown",
   "id": "c0dfcbdc",
   "metadata": {},
   "source": [
    "<b>Q8. How would you define the superclasses of a class?</b>"
   ]
  },
  {
   "cell_type": "code",
   "execution_count": 19,
   "id": "43ee5b0b",
   "metadata": {},
   "outputs": [
    {
     "name": "stdout",
     "output_type": "stream",
     "text": [
      "a\n"
     ]
    }
   ],
   "source": [
    "class A:\n",
    "    def __init__(self,a):\n",
    "        self.a = a\n",
    "        \n",
    "class B(A):\n",
    "   a = A('Test')\n",
    "   def display(self):\n",
    "        print (self.a)\n",
    "   pass\n",
    "        \n",
    "b = B('a')\n",
    "b.display()"
   ]
  },
  {
   "cell_type": "code",
   "execution_count": null,
   "id": "46641a46",
   "metadata": {},
   "outputs": [],
   "source": []
  },
  {
   "cell_type": "code",
   "execution_count": null,
   "id": "b6cf1aea",
   "metadata": {},
   "outputs": [],
   "source": []
  }
 ],
 "metadata": {
  "kernelspec": {
   "display_name": "Python 3 (ipykernel)",
   "language": "python",
   "name": "python3"
  },
  "language_info": {
   "codemirror_mode": {
    "name": "ipython",
    "version": 3
   },
   "file_extension": ".py",
   "mimetype": "text/x-python",
   "name": "python",
   "nbconvert_exporter": "python",
   "pygments_lexer": "ipython3",
   "version": "3.8.10"
  }
 },
 "nbformat": 4,
 "nbformat_minor": 5
}
