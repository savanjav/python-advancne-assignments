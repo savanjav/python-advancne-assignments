{
 "cells": [
  {
   "cell_type": "markdown",
   "id": "3fbe5fde",
   "metadata": {},
   "source": [
    "<b>Q1. What is the relationship between classes and modules?</b>"
   ]
  },
  {
   "cell_type": "markdown",
   "id": "638ceabe",
   "metadata": {},
   "source": [
    "The difference between a class and a module in python is that a class is used to define a blueprint for a given object, whereas a module is used to reuse a given piece of code inside another program."
   ]
  },
  {
   "cell_type": "markdown",
   "id": "45c30fb7",
   "metadata": {},
   "source": [
    "<b>Q2. How do you make instances and classes?</b>"
   ]
  },
  {
   "cell_type": "markdown",
   "id": "27ee19d2",
   "metadata": {},
   "source": [
    "using class keyword we can make class and, calling ClassName() we can make instance of that class.  "
   ]
  },
  {
   "cell_type": "markdown",
   "id": "8c8fb1d3",
   "metadata": {},
   "source": [
    "<b>Q3. Where and how should be class attributes created?</b>"
   ]
  },
  {
   "cell_type": "markdown",
   "id": "23711602",
   "metadata": {},
   "source": [
    "we can create class attributes inside class directly and also we can create inside init constroctor directly."
   ]
  },
  {
   "cell_type": "markdown",
   "id": "ddae6316",
   "metadata": {},
   "source": [
    "<b>Q4. Where and how are instance attributes created?</b>"
   ]
  },
  {
   "cell_type": "markdown",
   "id": "8211ace0",
   "metadata": {},
   "source": [
    "Instance attributes are defined in the constructor. Defined directly inside a class. Defined inside a constructor using the self parameter."
   ]
  },
  {
   "cell_type": "markdown",
   "id": "b4de4cc7",
   "metadata": {},
   "source": [
    "<b>Q5. What does the term &quot;self&quot; in a Python class mean?</b>"
   ]
  },
  {
   "cell_type": "markdown",
   "id": "5f83bd3b",
   "metadata": {},
   "source": [
    "The self parameter is a reference to the current instance of the class, and is used to access variables that belongs to the class."
   ]
  },
  {
   "cell_type": "markdown",
   "id": "2a6d08fb",
   "metadata": {},
   "source": [
    "<b>Q6. How does a Python class handle operator overloading?</b>"
   ]
  },
  {
   "cell_type": "markdown",
   "id": "d0a40620",
   "metadata": {},
   "source": [
    "Python operators work for built-in classes. But the same operator behaves differently with different types. For example, the + operator will perform arithmetic addition on two numbers, merge two lists, or concatenate two strings."
   ]
  },
  {
   "cell_type": "markdown",
   "id": "23863519",
   "metadata": {},
   "source": [
    "<b>Q7. When do you consider allowing operator overloading of your classes?</b>"
   ]
  },
  {
   "cell_type": "markdown",
   "id": "f9557576",
   "metadata": {},
   "source": [
    "When need to change functionality of same operator needed differently for different types of inputs."
   ]
  },
  {
   "cell_type": "markdown",
   "id": "8efbd642",
   "metadata": {},
   "source": [
    "<b>Q8. What is the most popular form of operator overloading?</b>"
   ]
  },
  {
   "cell_type": "markdown",
   "id": "97ca9e7b",
   "metadata": {},
   "source": [
    "A very popular and convenient example is the Addition (+) operator. Just think how the '+' operator operates on two numbers and the same operator operates on two strings. It performs “Addition” on numbers whereas it performs “Concatenation” on strings."
   ]
  },
  {
   "cell_type": "markdown",
   "id": "f4ec8965",
   "metadata": {},
   "source": [
    "<b>Q9. What are the two most important concepts to grasp in order to comprehend Python OOP code?</b>"
   ]
  },
  {
   "cell_type": "markdown",
   "id": "b36efc6a",
   "metadata": {},
   "source": [
    "inheritance and polymorphism"
   ]
  },
  {
   "cell_type": "code",
   "execution_count": null,
   "id": "80f39e56",
   "metadata": {},
   "outputs": [],
   "source": []
  }
 ],
 "metadata": {
  "kernelspec": {
   "display_name": "Python 3 (ipykernel)",
   "language": "python",
   "name": "python3"
  },
  "language_info": {
   "codemirror_mode": {
    "name": "ipython",
    "version": 3
   },
   "file_extension": ".py",
   "mimetype": "text/x-python",
   "name": "python",
   "nbconvert_exporter": "python",
   "pygments_lexer": "ipython3",
   "version": "3.8.10"
  }
 },
 "nbformat": 4,
 "nbformat_minor": 5
}
