{
 "cells": [
  {
   "cell_type": "markdown",
   "id": "6c2e49b7",
   "metadata": {},
   "source": [
    "<b>Q1. What is the meaning of multiple inheritance?</b>"
   ]
  },
  {
   "cell_type": "markdown",
   "id": "322ba76f",
   "metadata": {},
   "source": [
    "When a class is derived from more than one base class it is called multiple Inheritance."
   ]
  },
  {
   "cell_type": "markdown",
   "id": "f1e3b221",
   "metadata": {},
   "source": [
    "<b>Q2. What is the concept of delegation?</b>"
   ]
  },
  {
   "cell_type": "markdown",
   "id": "a2f51bba",
   "metadata": {},
   "source": [
    "the delegation pattern is an object-oriented design pattern that allows object composition to achieve the same code reuse as inheritance."
   ]
  },
  {
   "cell_type": "markdown",
   "id": "2674f483",
   "metadata": {},
   "source": [
    "<b>Q3. What is the concept of composition?</b>"
   ]
  },
  {
   "cell_type": "markdown",
   "id": "93f751e5",
   "metadata": {},
   "source": [
    "Composition is a concept that models a has a relationship. It enables creating complex types by combining objects of other types. This means that a class Composite can contain an object of another class Component . This relationship means that a Composite has a Component ."
   ]
  },
  {
   "cell_type": "markdown",
   "id": "ad598816",
   "metadata": {},
   "source": [
    "<b>Q4. What are bound methods and how do we use them?</b>"
   ]
  },
  {
   "cell_type": "markdown",
   "id": "8cb5720f",
   "metadata": {},
   "source": [
    "A bound method is the one which is dependent on the instance of the class as the first argument. It passes the instance as the first argument which is used to access the variables and functions. In Python 3 and newer versions of python, all functions in the class are by default bound methods."
   ]
  },
  {
   "cell_type": "markdown",
   "id": "1036cd23",
   "metadata": {},
   "source": [
    "<b>Q5. What is the purpose of pseudoprivate attributes?</b>"
   ]
  },
  {
   "cell_type": "markdown",
   "id": "e5dfccc2",
   "metadata": {},
   "source": [
    "This is sometimes misleadingly called private attributes really, it's just a way to localize a name to the class that created it, and does not prevent access by code outside the class. That is, this feature is mostly intended to avoid namespace collisions in instances, not to restrict access to names in general."
   ]
  },
  {
   "cell_type": "code",
   "execution_count": null,
   "id": "6fde99ea",
   "metadata": {},
   "outputs": [],
   "source": []
  }
 ],
 "metadata": {
  "kernelspec": {
   "display_name": "Python 3 (ipykernel)",
   "language": "python",
   "name": "python3"
  },
  "language_info": {
   "codemirror_mode": {
    "name": "ipython",
    "version": 3
   },
   "file_extension": ".py",
   "mimetype": "text/x-python",
   "name": "python",
   "nbconvert_exporter": "python",
   "pygments_lexer": "ipython3",
   "version": "3.8.10"
  }
 },
 "nbformat": 4,
 "nbformat_minor": 5
}
