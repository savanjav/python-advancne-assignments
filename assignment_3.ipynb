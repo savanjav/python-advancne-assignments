{
 "cells": [
  {
   "cell_type": "markdown",
   "id": "db43d8e3",
   "metadata": {},
   "source": [
    "<b>1. What is the concept of an abstract superclass?</b>"
   ]
  },
  {
   "cell_type": "markdown",
   "id": "0bad801b",
   "metadata": {},
   "source": [
    "A class is called an Abstract class if it contains one or more abstract methods. An abstract method is a method that is declared, but contains no implementation. Abstract classes may not be instantiated, and its abstract methods must be implemented by its subclasses."
   ]
  },
  {
   "cell_type": "markdown",
   "id": "583f9c9f",
   "metadata": {},
   "source": [
    "<b>2. What happens when a class statement&#39;s top level contains a basic assignment statement?</b>"
   ]
  },
  {
   "cell_type": "markdown",
   "id": "b6698d12",
   "metadata": {},
   "source": [
    "creates the class atrributes."
   ]
  },
  {
   "cell_type": "markdown",
   "id": "2fa85f1e",
   "metadata": {},
   "source": [
    "<b>3. Why does a class need to manually call a superclass&#39;s __init__ method?</b>"
   ]
  },
  {
   "cell_type": "markdown",
   "id": "66740cb7",
   "metadata": {},
   "source": [
    "to avoid subclass and parent class init method overriden."
   ]
  },
  {
   "cell_type": "markdown",
   "id": "989f5798",
   "metadata": {},
   "source": [
    "<b>4. How can you augment, instead of completely replacing, an inherited method?</b>"
   ]
  },
  {
   "cell_type": "code",
   "execution_count": null,
   "id": "a394a38a",
   "metadata": {},
   "outputs": [],
   "source": []
  },
  {
   "cell_type": "markdown",
   "id": "d8716094",
   "metadata": {},
   "source": [
    "<b>5. How is the local scope of a class different from that of a function?</b>"
   ]
  },
  {
   "cell_type": "code",
   "execution_count": 17,
   "id": "c1fb691f",
   "metadata": {},
   "outputs": [],
   "source": [
    "class A:\n",
    "    a = 'a'\n",
    "    def tmp(self):\n",
    "        a = 'z'\n",
    "        print (a)"
   ]
  },
  {
   "cell_type": "code",
   "execution_count": 19,
   "id": "f6c3da0f",
   "metadata": {},
   "outputs": [
    {
     "name": "stdout",
     "output_type": "stream",
     "text": [
      "a\n",
      "z\n"
     ]
    }
   ],
   "source": [
    "test = A()\n",
    "print (test.a)\n",
    "test.tmp()"
   ]
  },
  {
   "cell_type": "code",
   "execution_count": null,
   "id": "a548eeb8",
   "metadata": {},
   "outputs": [],
   "source": []
  }
 ],
 "metadata": {
  "kernelspec": {
   "display_name": "Python 3 (ipykernel)",
   "language": "python",
   "name": "python3"
  },
  "language_info": {
   "codemirror_mode": {
    "name": "ipython",
    "version": 3
   },
   "file_extension": ".py",
   "mimetype": "text/x-python",
   "name": "python",
   "nbconvert_exporter": "python",
   "pygments_lexer": "ipython3",
   "version": "3.8.10"
  }
 },
 "nbformat": 4,
 "nbformat_minor": 5
}
