{
 "cells": [
  {
   "cell_type": "markdown",
   "id": "1ae0891a",
   "metadata": {},
   "source": [
    "<b>Q1. Which two operator overloading methods can you use in your classes to support iteration?</b>"
   ]
  },
  {
   "cell_type": "markdown",
   "id": "77873f6d",
   "metadata": {},
   "source": [
    "`__iter__` <br />\n",
    "`__next__`"
   ]
  },
  {
   "cell_type": "markdown",
   "id": "4638b4d7",
   "metadata": {},
   "source": [
    "<b>Q2. In what contexts do the two operator overloading methods manage printing?</b>"
   ]
  },
  {
   "cell_type": "code",
   "execution_count": 7,
   "id": "473ffcb5",
   "metadata": {},
   "outputs": [
    {
     "name": "stdout",
     "output_type": "stream",
     "text": [
      "3\n",
      "az\n"
     ]
    }
   ],
   "source": [
    "z = 1 + 2\n",
    "print (z)\n",
    "print('a'+'z')"
   ]
  },
  {
   "cell_type": "markdown",
   "id": "ba361d25",
   "metadata": {},
   "source": [
    "<b>Q3. In a class, how do you intercept slice operations?</b>"
   ]
  },
  {
   "cell_type": "code",
   "execution_count": null,
   "id": "c0952aa0",
   "metadata": {},
   "outputs": [],
   "source": []
  },
  {
   "cell_type": "markdown",
   "id": "258ff1d9",
   "metadata": {},
   "source": [
    "<b>Q4. In a class, how do you capture in-place addition?</b>"
   ]
  },
  {
   "cell_type": "code",
   "execution_count": 27,
   "id": "81b3b8e9",
   "metadata": {},
   "outputs": [
    {
     "data": {
      "text/plain": [
       "7"
      ]
     },
     "execution_count": 27,
     "metadata": {},
     "output_type": "execute_result"
    }
   ],
   "source": [
    "import operator\n",
    "a =operator.iadd(1, 6)\n",
    "a"
   ]
  },
  {
   "cell_type": "markdown",
   "id": "7de0e452",
   "metadata": {},
   "source": [
    "<b>Q5. When is it appropriate to use operator overloading?</b>"
   ]
  },
  {
   "cell_type": "markdown",
   "id": "24d75ba5",
   "metadata": {},
   "source": [
    "When need to change the functionality of operator for different types of inputs."
   ]
  },
  {
   "cell_type": "code",
   "execution_count": null,
   "id": "55155c2a",
   "metadata": {},
   "outputs": [],
   "source": []
  }
 ],
 "metadata": {
  "kernelspec": {
   "display_name": "Python 3 (ipykernel)",
   "language": "python",
   "name": "python3"
  },
  "language_info": {
   "codemirror_mode": {
    "name": "ipython",
    "version": 3
   },
   "file_extension": ".py",
   "mimetype": "text/x-python",
   "name": "python",
   "nbconvert_exporter": "python",
   "pygments_lexer": "ipython3",
   "version": "3.8.10"
  }
 },
 "nbformat": 4,
 "nbformat_minor": 5
}
